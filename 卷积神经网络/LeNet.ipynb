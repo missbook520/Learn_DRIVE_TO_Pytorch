{
 "cells": [
  {
   "cell_type": "code",
   "execution_count": 18,
   "metadata": {},
   "outputs": [],
   "source": [
    "import torch\n",
    "import torch.nn as nn\n",
    "\n",
    "from torch.nn import init\n",
    "#define the initial function to init the layer's parameters for the network\n",
    "def weigth_init(m):\n",
    "    if isinstance(m, nn.Conv2d):\n",
    "        init.xavier_uniform_(m.weight.data)\n",
    "        init.constant_(m.bias.data,0.1)\n",
    "    elif isinstance(m, nn.BatchNorm2d):\n",
    "        m.weight.data.fill_(1)\n",
    "        m.bias.data.zero_()\n",
    "    elif isinstance(m, nn.Linear):\n",
    "        m.weight.data.normal_(0,0.01)\n",
    "        m.bias.data.zero_()\n"
   ]
  },
  {
   "cell_type": "code",
   "execution_count": 16,
   "metadata": {},
   "outputs": [],
   "source": [
    "class LeNet(nn.Module):\n",
    "    def __init__(self):\n",
    "        super().__init__()\n",
    "        self.conv1=nn.Conv2d(in_channels=1,out_channels=6,kernel_size=5,padding=2)\n",
    "        self.activator=nn.Sigmoid()\n",
    "        self.pool=nn.AvgPool2d(kernel_size=2,stride=2)\n",
    "        self.conv2=nn.Conv2d(in_channels=6,out_channels=16,kernel_size=5)\n",
    "        self.fc=nn.Linear(400,10)\n",
    "        \n",
    "    def forward(self,x):\n",
    "        assert x.shape==(1,1,28,28),\"请输入正确格式的数据！\"\n",
    "        out=self.conv1(x)\n",
    "        out=self.activator(out)\n",
    "        out=self.pool(out)\n",
    "        out=self.conv2(out)\n",
    "        out=self.activator(out)\n",
    "        out=self.pool(out)\n",
    "        out=self.fc(out.view(out.shape[0],-1))\n",
    "        \n",
    "        return self.activator(out)\n",
    "        "
   ]
  },
  {
   "cell_type": "code",
   "execution_count": 22,
   "metadata": {},
   "outputs": [
    {
     "data": {
      "text/plain": [
       "tensor([[0.5118, 0.4539, 0.4899, 0.5357, 0.5473, 0.5059, 0.5231, 0.5279, 0.5034,\n",
       "         0.5434]], grad_fn=<SigmoidBackward>)"
      ]
     },
     "execution_count": 22,
     "metadata": {},
     "output_type": "execute_result"
    }
   ],
   "source": [
    "Net=LeNet()\n",
    "Net.apply(weigth_init)\n",
    "\n",
    "X=torch.rand(1,1,28,28)\n",
    "Net(X)"
   ]
  },
  {
   "cell_type": "code",
   "execution_count": null,
   "metadata": {},
   "outputs": [],
   "source": []
  }
 ],
 "metadata": {
  "kernelspec": {
   "display_name": "Python 3",
   "language": "python",
   "name": "python3"
  },
  "language_info": {
   "codemirror_mode": {
    "name": "ipython",
    "version": 3
   },
   "file_extension": ".py",
   "mimetype": "text/x-python",
   "name": "python",
   "nbconvert_exporter": "python",
   "pygments_lexer": "ipython3",
   "version": "3.7.1"
  }
 },
 "nbformat": 4,
 "nbformat_minor": 2
}
